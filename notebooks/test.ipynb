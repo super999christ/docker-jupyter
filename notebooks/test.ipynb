{
 "cells": [
  {
   "cell_type": "code",
   "execution_count": 1,
   "metadata": {},
   "outputs": [],
   "source": [
    "import json\n",
    "\n",
    "# Just test data\n",
    "REQUEST='{\"body\": \"\", \"args\": {}, \"path\": {\"id\": \"1\"}, \"headers\": {\"Host\": \"127.0.0.1:8888\", \"Accept\": \"application/json\" }}'"
   ]
  },
  {
   "cell_type": "code",
   "execution_count": 2,
   "metadata": {},
   "outputs": [
    {
     "name": "stdout",
     "output_type": "stream",
     "text": [
      "{\"body\": \"\", \"args\": {}, \"path\": {\"id\": \"1\"}, \"headers\": {\"Host\": \"127.0.0.1:8888\", \"Accept\": \"application/json\"}}\n"
     ]
    }
   ],
   "source": [
    "# GET /test/:id\n",
    "req = json.loads(REQUEST)\n",
    "print(json.dumps(req))"
   ]
  }
 ],
 "metadata": {
  "interpreter": {
   "hash": "aee8b7b246df8f9039afb4144a1f6fd8d2ca17a180786b69acc140d282b71a49"
  },
  "kernelspec": {
   "display_name": "Python 3.9.7 64-bit",
   "language": "python",
   "name": "python3"
  },
  "language_info": {
   "codemirror_mode": {
    "name": "ipython",
    "version": 3
   },
   "file_extension": ".py",
   "mimetype": "text/x-python",
   "name": "python",
   "nbconvert_exporter": "python",
   "pygments_lexer": "ipython3",
   "version": "3.9.7"
  },
  "orig_nbformat": 4
 },
 "nbformat": 4,
 "nbformat_minor": 2
}
